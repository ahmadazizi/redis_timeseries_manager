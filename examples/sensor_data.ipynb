{
 "cells": [
  {
   "cell_type": "markdown",
   "metadata": {},
   "source": [
    "# RedisTimeseriesManager Example: Sensor Data\n",
    "\n",
    "In this example, we are going to maintain data of two imaginary sensors. Each sensor provides two measurements: `temperature` and `humidity`.\n",
    "\n",
    "The data is collected with the resolution of one minute. Then we compress(downsample) the data to hourly and daily resolutions. To compress the data, we consider the average value of temperature and the maximum value of humidity in each time frame.\n",
    "\n",
    "We also want to keep 1-minute sensor data for just one week, 1-hour data for one month and respectively 1-day data for a year.\n",
    "In this Example, we use the classifier 1(c1) to identify the building where the sensor is located and the classifier 2(c2) for the sensor."
   ]
  },
  {
   "cell_type": "code",
   "execution_count": 1,
   "metadata": {},
   "outputs": [],
   "source": [
    "import time, datetime, random\n",
    "from pytz import timezone\n",
    "\n",
    "from redis_timeseries_manager import RedisTimeseriesManager\n",
    "\n",
    "settings = {\n",
    "    'host': 'localhost',\n",
    "    'port': 6379,\n",
    "    'db': 13,\n",
    "    'password': None,\n",
    "}\n",
    "\n",
    "class SensorData(RedisTimeseriesManager):\n",
    "    _name = 'sensors'\n",
    "    _lines = ['temp', 'hum']\n",
    "    _timeframes = {\n",
    "        'raw': {'retention_secs': 60*60*24*7}, # retention 7 day\n",
    "        '1h': {'retention_secs': 60*60*24*30, 'bucket_size_secs': 60*60}, # retention 1 month; timeframe 3600 secs\n",
    "        '1d': {'retention_secs': 60*60*24*365, 'bucket_size_secs': 60*60*24}, # retention 1 year; timeframe 86400 secs\n",
    "    }\n",
    "\n",
    "    #compaction rules\n",
    "    def _create_rule(self, c1:str, c2:str, line:str, timeframe_name:str, timeframe_specs:str, source_key:str, dest_key:str):\n",
    "        if line == 'temp':\n",
    "            aggregation_type = 'avg'\n",
    "        elif line == 'hum':\n",
    "            aggregation_type = 'max'\n",
    "        bucket_size_secs = timeframe_specs['bucket_size_secs']\n",
    "        self._set_rule(source_key, dest_key, aggregation_type, bucket_size_secs)\n",
    "    \n",
    "    @staticmethod\n",
    "    def print_data(data):\n",
    "        for ts, temp, hum in data:\n",
    "            print(f\"{datetime.datetime.fromtimestamp(ts, tz=timezone('UTC')):%Y-%m-%d %H:%M:%S}, temp: {round(temp, 2)}, hum(max): {round(hum, 2)}\")"
   ]
  },
  {
   "cell_type": "code",
   "execution_count": 2,
   "metadata": {},
   "outputs": [],
   "source": [
    "sd = SensorData(**settings)"
   ]
  },
  {
   "cell_type": "code",
   "execution_count": 3,
   "metadata": {},
   "outputs": [
    {
     "data": {
      "text/plain": [
       "(True, 'Create building1:sensor1 success!')"
      ]
     },
     "execution_count": 3,
     "metadata": {},
     "output_type": "execute_result"
    }
   ],
   "source": [
    "# creating timeseries for sensor1\n",
    "sd.create(\n",
    "    c1='building1',\n",
    "    c2='sensor1',\n",
    ")"
   ]
  },
  {
   "cell_type": "code",
   "execution_count": 4,
   "metadata": {},
   "outputs": [
    {
     "data": {
      "text/plain": [
       "(True, 'Create building1:sensor2 success!')"
      ]
     },
     "execution_count": 4,
     "metadata": {},
     "output_type": "execute_result"
    }
   ],
   "source": [
    "# creating timeseries for sensor2\n",
    "sd.create(\n",
    "    c1='building1',\n",
    "    c2='sensor2',\n",
    ")"
   ]
  },
  {
   "cell_type": "code",
   "execution_count": 5,
   "metadata": {},
   "outputs": [
    {
     "data": {
      "text/plain": [
       "(True, 172800)"
      ]
     },
     "execution_count": 5,
     "metadata": {},
     "output_type": "execute_result"
    }
   ],
   "source": [
    "# adding sample data for sensors\n",
    "sensor1 = []\n",
    "sensor2 = []\n",
    "# generating random data from 2020-01-01 to 2020-03-01; 1-min resolution\n",
    "for ts in range(1577836800, 1583020800, 60):\n",
    "    sensor1.append([ts, random.randint(20, 30), random.randint(70, 90)])\n",
    "    sensor2.append([ts, random.randint(-10, 0), random.randint(10, 20)])\n",
    "# adding data\n",
    "sd.insert(\n",
    "    data=sensor1,\n",
    "    c1='building1',\n",
    "    c2='sensor1',\n",
    ")\n",
    "sd.insert(\n",
    "    data=sensor2,\n",
    "    c1='building1',\n",
    "    c2='sensor2',\n",
    ")"
   ]
  },
  {
   "cell_type": "code",
   "execution_count": 6,
   "metadata": {},
   "outputs": [
    {
     "name": "stdout",
     "output_type": "stream",
     "text": [
      "2020-02-22 23:59:00, temp: 20.0, hum(max): 74.0\n",
      "2020-02-23 00:00:00, temp: 22.0, hum(max): 90.0\n",
      "2020-02-23 00:01:00, temp: 23.0, hum(max): 73.0\n",
      "2020-02-23 00:02:00, temp: 20.0, hum(max): 83.0\n",
      "2020-02-23 00:03:00, temp: 23.0, hum(max): 70.0\n",
      "2020-02-23 00:04:00, temp: 21.0, hum(max): 80.0\n",
      "2020-02-23 00:05:00, temp: 23.0, hum(max): 88.0\n",
      "2020-02-23 00:06:00, temp: 25.0, hum(max): 79.0\n",
      "2020-02-23 00:07:00, temp: 26.0, hum(max): 77.0\n",
      "2020-02-23 00:08:00, temp: 23.0, hum(max): 88.0\n"
     ]
    }
   ],
   "source": [
    "# reading sensor1 first 10 raw data, the data older than one week is removed\n",
    "data = sd.read(\n",
    "    c1='building1',\n",
    "    c2='sensor1',\n",
    "    timeframe='raw',\n",
    ")\n",
    "sd.print_data(data[1][:10])"
   ]
  },
  {
   "cell_type": "code",
   "execution_count": 7,
   "metadata": {},
   "outputs": [
    {
     "name": "stdout",
     "output_type": "stream",
     "text": [
      "2020-02-29 13:00:00, temp: 24.57, hum(max): 90.0\n",
      "2020-02-29 14:00:00, temp: 24.95, hum(max): 89.0\n",
      "2020-02-29 15:00:00, temp: 24.4, hum(max): 90.0\n",
      "2020-02-29 16:00:00, temp: 24.88, hum(max): 89.0\n",
      "2020-02-29 17:00:00, temp: 24.62, hum(max): 90.0\n",
      "2020-02-29 18:00:00, temp: 25.38, hum(max): 90.0\n",
      "2020-02-29 19:00:00, temp: 25.52, hum(max): 90.0\n",
      "2020-02-29 20:00:00, temp: 24.25, hum(max): 90.0\n",
      "2020-02-29 21:00:00, temp: 24.93, hum(max): 90.0\n",
      "2020-02-29 22:00:00, temp: 25.08, hum(max): 90.0\n"
     ]
    }
   ],
   "source": [
    "# sensor 1 last 10 data, timeframe 1h\n",
    "data = sd.read_last_n_records(\n",
    "    c1='building1',\n",
    "    c2='sensor1',\n",
    "    timeframe='1h',\n",
    "    minimum_timestamp=0,\n",
    "    n=10,\n",
    ")\n",
    "sd.print_data(data[2])"
   ]
  },
  {
   "cell_type": "code",
   "execution_count": 8,
   "metadata": {},
   "outputs": [
    {
     "name": "stdout",
     "output_type": "stream",
     "text": [
      "2020-02-19 00:00:00, temp: -5.15, hum(max): 20.0\n",
      "2020-02-20 00:00:00, temp: -5.05, hum(max): 20.0\n",
      "2020-02-21 00:00:00, temp: -4.95, hum(max): 20.0\n",
      "2020-02-22 00:00:00, temp: -4.99, hum(max): 20.0\n",
      "2020-02-23 00:00:00, temp: -5.07, hum(max): 20.0\n",
      "2020-02-24 00:00:00, temp: -5.02, hum(max): 20.0\n",
      "2020-02-25 00:00:00, temp: -5.09, hum(max): 20.0\n",
      "2020-02-26 00:00:00, temp: -5.1, hum(max): 20.0\n",
      "2020-02-27 00:00:00, temp: -4.96, hum(max): 20.0\n",
      "2020-02-28 00:00:00, temp: -5.1, hum(max): 20.0\n"
     ]
    }
   ],
   "source": [
    "# sensor 2 last 10 data, timeframe 1d\n",
    "data = sd.read_last_n_records(\n",
    "    c1='building1',\n",
    "    c2='sensor2',\n",
    "    timeframe='1d',\n",
    "    minimum_timestamp=0,\n",
    "    n=10,\n",
    ")\n",
    "sd.print_data(data[2])"
   ]
  },
  {
   "cell_type": "markdown",
   "metadata": {},
   "source": [
    "## Other Commands\n",
    "In the background, some keys are created in the redis db. To inspect the list of keys, run the following command:"
   ]
  },
  {
   "cell_type": "code",
   "execution_count": 9,
   "metadata": {},
   "outputs": [
    {
     "data": {
      "text/plain": [
       "['sensors:building1:sensor1:1d:hum',\n",
       " 'sensors:building1:sensor1:1d:temp',\n",
       " 'sensors:building1:sensor1:1h:hum',\n",
       " 'sensors:building1:sensor1:1h:temp',\n",
       " 'sensors:building1:sensor1:raw:hum',\n",
       " 'sensors:building1:sensor1:raw:temp',\n",
       " 'sensors:building1:sensor2:1d:hum',\n",
       " 'sensors:building1:sensor2:1d:temp',\n",
       " 'sensors:building1:sensor2:1h:hum',\n",
       " 'sensors:building1:sensor2:1h:temp',\n",
       " 'sensors:building1:sensor2:raw:hum',\n",
       " 'sensors:building1:sensor2:raw:temp']"
      ]
     },
     "execution_count": 9,
     "metadata": {},
     "output_type": "execute_result"
    }
   ],
   "source": [
    "sd.query_index(return_key_names=True)[1]"
   ]
  },
  {
   "cell_type": "markdown",
   "metadata": {},
   "source": [
    "You can inspect the info of each key by running the `stats` command as shown in the next cell.\n",
    "\n",
    "> Note that each key have lablels properly filled with respective data(`c1`, `c2`, `...`), so you can take advantage of *redis multi-timeseries commands* like [TS.MRANGE](https://redis.io/commands/ts.mrange/)\n"
   ]
  },
  {
   "cell_type": "code",
   "execution_count": 10,
   "metadata": {},
   "outputs": [
    {
     "data": {
      "text/plain": [
       "{'rules': [[b'sensors:building1:sensor1:1h:temp', 3600000, b'AVG'],\n",
       "  [b'sensors:building1:sensor1:1d:temp', 86400000, b'AVG']],\n",
       " 'source_key': None,\n",
       " 'chunk_count': 4,\n",
       " 'memory_usage': 16963,\n",
       " 'total_samples': 10081,\n",
       " 'labels': {'tl': 'sensors',\n",
       "  'c1': 'building1',\n",
       "  'c2': 'sensor1',\n",
       "  'line': 'temp',\n",
       "  'timeframe': 'raw'},\n",
       " 'retention_msecs': 604800000,\n",
       " 'lastTimeStamp': 1583020740000,\n",
       " 'first_time_stamp': 1582415940000,\n",
       " 'chunk_size': 4096,\n",
       " 'duplicate_policy': 'last'}"
      ]
     },
     "execution_count": 10,
     "metadata": {},
     "output_type": "execute_result"
    }
   ],
   "source": [
    "sd.stats('building1', 'sensor1', 'raw', 'temp').__dict__"
   ]
  }
 ],
 "metadata": {
  "kernelspec": {
   "display_name": ".venv",
   "language": "python",
   "name": "python3"
  },
  "language_info": {
   "codemirror_mode": {
    "name": "ipython",
    "version": 3
   },
   "file_extension": ".py",
   "mimetype": "text/x-python",
   "name": "python",
   "nbconvert_exporter": "python",
   "pygments_lexer": "ipython3",
   "version": "3.8.10 (default, Sep 28 2021, 16:10:42) \n[GCC 9.3.0]"
  },
  "orig_nbformat": 4,
  "vscode": {
   "interpreter": {
    "hash": "2d702cda0469abe790a77633ff0c44a34d021c77dc3d2015e1d2d01a502c51d1"
   }
  }
 },
 "nbformat": 4,
 "nbformat_minor": 2
}
